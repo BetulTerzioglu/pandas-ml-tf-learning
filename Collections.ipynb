{
 "cells": [
  {
   "cell_type": "code",
   "execution_count": 2,
   "id": "587fca5c-629c-4a6a-8015-bbb34d1a1cb5",
   "metadata": {},
   "outputs": [],
   "source": [
    "benimListem = [1,2,3,4,5]"
   ]
  },
  {
   "cell_type": "code",
   "execution_count": 3,
   "id": "3687f778-0d8b-44f8-9582-c7b18319d7b8",
   "metadata": {},
   "outputs": [
    {
     "data": {
      "text/plain": [
       "[1, 2, 3, 4, 5]"
      ]
     },
     "execution_count": 3,
     "metadata": {},
     "output_type": "execute_result"
    }
   ],
   "source": [
    "benimListem #listeler index mantığı ile çalışır. "
   ]
  },
  {
   "cell_type": "code",
   "execution_count": 4,
   "id": "2dbf899e-d4d8-4aa2-a325-f3d44967a8a2",
   "metadata": {},
   "outputs": [
    {
     "data": {
      "text/plain": [
       "5"
      ]
     },
     "execution_count": 4,
     "metadata": {},
     "output_type": "execute_result"
    }
   ],
   "source": [
    "benimListem.pop()"
   ]
  },
  {
   "cell_type": "code",
   "execution_count": 5,
   "id": "369488d6-e4fc-461c-8096-56f4ff6608ae",
   "metadata": {},
   "outputs": [
    {
     "data": {
      "text/plain": [
       "[1, 2, 3, 4]"
      ]
     },
     "execution_count": 5,
     "metadata": {},
     "output_type": "execute_result"
    }
   ],
   "source": [
    "benimListem"
   ]
  },
  {
   "cell_type": "code",
   "execution_count": 6,
   "id": "25046120-2018-4419-9028-573db21f59b2",
   "metadata": {},
   "outputs": [],
   "source": [
    " benimListem.remove(2)"
   ]
  },
  {
   "cell_type": "code",
   "execution_count": 7,
   "id": "9f1b1867-7b04-4cd7-9b1c-7965c0a422e2",
   "metadata": {},
   "outputs": [
    {
     "data": {
      "text/plain": [
       "[1, 3, 4]"
      ]
     },
     "execution_count": 7,
     "metadata": {},
     "output_type": "execute_result"
    }
   ],
   "source": [
    "benimListem\n"
   ]
  },
  {
   "cell_type": "code",
   "execution_count": 8,
   "id": "464a7ed7-bc2b-48ad-8e7d-04ffb8077127",
   "metadata": {},
   "outputs": [
    {
     "data": {
      "text/plain": [
       "1"
      ]
     },
     "execution_count": 8,
     "metadata": {},
     "output_type": "execute_result"
    }
   ],
   "source": [
    "benimListem.count(3) # bir elemandan kaç tane olduğunu sayar"
   ]
  },
  {
   "cell_type": "code",
   "execution_count": 10,
   "id": "ea4a8136-9a84-4117-9550-8ce153fa707d",
   "metadata": {},
   "outputs": [
    {
     "data": {
      "text/plain": [
       "[1, 3, 4, 1, 3, 4]"
      ]
     },
     "execution_count": 10,
     "metadata": {},
     "output_type": "execute_result"
    }
   ],
   "source": [
    "benimListem+benimListem #listelerde toplama işlemi yapılabilir."
   ]
  },
  {
   "cell_type": "code",
   "execution_count": 12,
   "id": "0d24677f-1a7d-47f2-bfbc-51021ef8e95d",
   "metadata": {},
   "outputs": [
    {
     "data": {
      "text/plain": [
       "[1, 3, 4, 1, 3, 4, 1, 3, 4, 1, 3, 4, 1, 3, 4, 1, 3, 4, 1, 3, 4, 1, 3, 4]"
      ]
     },
     "execution_count": 12,
     "metadata": {},
     "output_type": "execute_result"
    }
   ],
   "source": [
    "benimListem*8 # listeyi 8 kez yazdırırız. "
   ]
  },
  {
   "cell_type": "code",
   "execution_count": 14,
   "id": "0f9b370c-48e1-41c1-9045-f9ac86d249ed",
   "metadata": {},
   "outputs": [],
   "source": [
    "benimListem.reverse()"
   ]
  },
  {
   "cell_type": "code",
   "execution_count": 16,
   "id": "adbd975b-663c-466b-aa05-061a5511d352",
   "metadata": {},
   "outputs": [
    {
     "data": {
      "text/plain": [
       "[4, 3, 1]"
      ]
     },
     "execution_count": 16,
     "metadata": {},
     "output_type": "execute_result"
    }
   ],
   "source": [
    "benimListem"
   ]
  },
  {
   "cell_type": "code",
   "execution_count": 17,
   "id": "ed2afc3c-99c9-4e73-aa00-4912c5f061c9",
   "metadata": {},
   "outputs": [],
   "source": [
    "karisikListe = [\"beth\", 1 , 2 ] #python'da listelerde karışık veri türleri kullanılabilir. "
   ]
  },
  {
   "cell_type": "code",
   "execution_count": 20,
   "id": "da274dbe-4932-449f-a11c-2cbdc663a9a8",
   "metadata": {},
   "outputs": [],
   "source": [
    "nestedList = [1,5, 4.14, \"ben\",[5,\"elf\"]] # liste içinde liste kullanılabilir. "
   ]
  },
  {
   "cell_type": "code",
   "execution_count": 25,
   "id": "1bb7e954-11ef-4382-b2bc-0ade0a35c61e",
   "metadata": {},
   "outputs": [],
   "source": [
    "nestedZ = nestedList[4][1]"
   ]
  },
  {
   "cell_type": "code",
   "execution_count": 26,
   "id": "aea5aea1-002a-4220-8525-85e0cc3f16be",
   "metadata": {},
   "outputs": [
    {
     "data": {
      "text/plain": [
       "'elf'"
      ]
     },
     "execution_count": 26,
     "metadata": {},
     "output_type": "execute_result"
    }
   ],
   "source": [
    "nestedZ"
   ]
  },
  {
   "cell_type": "code",
   "execution_count": 28,
   "id": "d4e81726-e51b-4b2d-93f8-6fae0990d154",
   "metadata": {},
   "outputs": [],
   "source": [
    "karmaşıkListe = [[1,5,0,[4,\"a\"]]]"
   ]
  },
  {
   "cell_type": "code",
   "execution_count": 32,
   "id": "598059cb-aa6b-49da-9f86-4cadaaf159ad",
   "metadata": {},
   "outputs": [
    {
     "data": {
      "text/plain": [
       "'a'"
      ]
     },
     "execution_count": 32,
     "metadata": {},
     "output_type": "execute_result"
    }
   ],
   "source": [
    "nestedZ = karmaşıkListe[0][3][1]\n",
    "nestedZ"
   ]
  },
  {
   "cell_type": "markdown",
   "id": "f6e565ac-e152-459b-9398-c1e80a868108",
   "metadata": {},
   "source": [
    "#Sözlük Nedir ?"
   ]
  },
  {
   "cell_type": "markdown",
   "id": "6b60d176-19f3-4511-9f61-e4a83ec7fac8",
   "metadata": {},
   "source": [
    "key-value pairing (anahtar kelime - değer eşleşmesi ) "
   ]
  },
  {
   "cell_type": "code",
   "execution_count": null,
   "id": "c3760def-ae7e-43e1-a657-30514dcb91e6",
   "metadata": {},
   "outputs": [],
   "source": [
    "yemekler = "
   ]
  }
 ],
 "metadata": {
  "kernelspec": {
   "display_name": "Python 3 (ipykernel)",
   "language": "python",
   "name": "python3"
  },
  "language_info": {
   "codemirror_mode": {
    "name": "ipython",
    "version": 3
   },
   "file_extension": ".py",
   "mimetype": "text/x-python",
   "name": "python",
   "nbconvert_exporter": "python",
   "pygments_lexer": "ipython3",
   "version": "3.10.12"
  }
 },
 "nbformat": 4,
 "nbformat_minor": 5
}
