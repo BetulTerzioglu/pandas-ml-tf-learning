{
 "cells": [
  {
   "cell_type": "code",
   "execution_count": 13,
   "id": "29fb7108-478f-4695-a2b7-a3123b9babbf",
   "metadata": {},
   "outputs": [],
   "source": [
    "#set içerisinde bir elemanı sadece 1 defa barındırır."
   ]
  },
  {
   "cell_type": "code",
   "execution_count": 14,
   "id": "9ee14dbb-5252-4e5d-897e-96133da0c3e4",
   "metadata": {},
   "outputs": [],
   "source": [
    "benimListem = [1,2,3,1,2,3]"
   ]
  },
  {
   "cell_type": "code",
   "execution_count": 15,
   "id": "8e4a2dc4-ba05-4a00-901d-890cfa8ba342",
   "metadata": {},
   "outputs": [],
   "source": [
    "benimListeSetim = set(benimListem)"
   ]
  },
  {
   "cell_type": "code",
   "execution_count": 16,
   "id": "5f6a7039-1e0d-4ed4-b527-adc9c1c31403",
   "metadata": {},
   "outputs": [
    {
     "data": {
      "text/plain": [
       "set"
      ]
     },
     "execution_count": 16,
     "metadata": {},
     "output_type": "execute_result"
    }
   ],
   "source": [
    "type(benimListeSetim)"
   ]
  },
  {
   "cell_type": "code",
   "execution_count": 17,
   "id": "210538bc-aff7-4c9f-b163-433549c63c88",
   "metadata": {},
   "outputs": [
    {
     "data": {
      "text/plain": [
       "{1, 2, 3}"
      ]
     },
     "execution_count": 17,
     "metadata": {},
     "output_type": "execute_result"
    }
   ],
   "source": [
    "benimListeSetim\n",
    "#duplicate edilmiş veriler temizlenmiş olur."
   ]
  },
  {
   "cell_type": "code",
   "execution_count": 18,
   "id": "1752fc72-44b7-439b-8b6a-4cea9ca0ba37",
   "metadata": {},
   "outputs": [],
   "source": [
    "benimSet = {1,2,3,\"a\",\"a\",\"b\"}"
   ]
  },
  {
   "cell_type": "code",
   "execution_count": 19,
   "id": "d5b8f231-71df-4bbf-99a7-79a1ab1157a0",
   "metadata": {},
   "outputs": [
    {
     "data": {
      "text/plain": [
       "{1, 2, 3, 'a', 'b'}"
      ]
     },
     "execution_count": 19,
     "metadata": {},
     "output_type": "execute_result"
    }
   ],
   "source": [
    "benimSet"
   ]
  },
  {
   "cell_type": "code",
   "execution_count": 20,
   "id": "b065c555-eded-4f15-be62-a2790496123e",
   "metadata": {},
   "outputs": [],
   "source": [
    "bosSet = {} #default olarak sözlük tanımlanır, set olarak tanımlanmaz."
   ]
  },
  {
   "cell_type": "code",
   "execution_count": 21,
   "id": "671d5d21-a93b-49b8-bd61-e8f2103867e4",
   "metadata": {},
   "outputs": [],
   "source": [
    "benimBosSetim = set() #böyle yazdıımız zaman set olarak tanımlanır."
   ]
  },
  {
   "cell_type": "markdown",
   "id": "71d8821d-213b-43cb-892d-1a5023d1a754",
   "metadata": {},
   "source": [
    "Tuple"
   ]
  },
  {
   "cell_type": "code",
   "execution_count": 22,
   "id": "1754dd47-dc6a-405f-a61f-a3dc4c61a834",
   "metadata": {},
   "outputs": [],
   "source": [
    "#listeye benzer bir yapısı vardır. İmmutable (değiştirilemez)'dir."
   ]
  },
  {
   "cell_type": "code",
   "execution_count": 23,
   "id": "81710041-d3ef-45c6-b67e-58c247189dd4",
   "metadata": {},
   "outputs": [],
   "source": [
    "benimTuple = (1,2,\"a\",4.5)"
   ]
  },
  {
   "cell_type": "code",
   "execution_count": 24,
   "id": "207a0bd6-ad06-448e-bd71-1f4a4c16c2fa",
   "metadata": {},
   "outputs": [
    {
     "ename": "TypeError",
     "evalue": "'tuple' object does not support item assignment",
     "output_type": "error",
     "traceback": [
      "\u001b[0;31m---------------------------------------------------------------------------\u001b[0m",
      "\u001b[0;31mTypeError\u001b[0m                                 Traceback (most recent call last)",
      "Cell \u001b[0;32mIn[24], line 1\u001b[0m\n\u001b[0;32m----> 1\u001b[0m \u001b[43mbenimTuple\u001b[49m\u001b[43m[\u001b[49m\u001b[38;5;241;43m0\u001b[39;49m\u001b[43m]\u001b[49m \u001b[38;5;241m=\u001b[39m \u001b[38;5;241m1\u001b[39m\n",
      "\u001b[0;31mTypeError\u001b[0m: 'tuple' object does not support item assignment"
     ]
    }
   ],
   "source": [
    "benimTuple[0] = 1"
   ]
  },
  {
   "cell_type": "code",
   "execution_count": null,
   "id": "2614e2f2-7b99-442c-9175-85b6939fdb32",
   "metadata": {},
   "outputs": [
    {
     "data": {
      "text/plain": [
       "(1, 2, 'a', 4.5)"
      ]
     },
     "execution_count": 18,
     "metadata": {},
     "output_type": "execute_result"
    }
   ],
   "source": [
    "benimTuple"
   ]
  },
  {
   "cell_type": "code",
   "execution_count": null,
   "id": "24a6778b-f916-4d5b-bb0a-5d4de3391c32",
   "metadata": {},
   "outputs": [
    {
     "data": {
      "text/plain": [
       "0"
      ]
     },
     "execution_count": 24,
     "metadata": {},
     "output_type": "execute_result"
    }
   ],
   "source": [
    "benimTuple.index(1) # elemanın kaçıncı indexte olduğunu söyler."
   ]
  },
  {
   "cell_type": "code",
   "execution_count": null,
   "id": "9bc7d9b1-efb0-4cc6-bfca-71e3e67c7383",
   "metadata": {},
   "outputs": [
    {
     "data": {
      "text/plain": [
       "1"
      ]
     },
     "execution_count": 23,
     "metadata": {},
     "output_type": "execute_result"
    }
   ],
   "source": [
    "benimTuple.count(\"a\")#kaç tane a olduğunu sayar."
   ]
  },
  {
   "cell_type": "code",
   "execution_count": null,
   "id": "4b5af253-b35b-49fb-9253-d3763a1ffd86",
   "metadata": {},
   "outputs": [],
   "source": [
    "benimString = \"fatma Betül\""
   ]
  },
  {
   "cell_type": "code",
   "execution_count": null,
   "id": "58ba38b5-6dc0-4939-b080-70ba8550921a",
   "metadata": {},
   "outputs": [
    {
     "name": "stdout",
     "output_type": "stream",
     "text": [
      "yes\n"
     ]
    }
   ],
   "source": [
    "if \"Bet\" in benimString:\n",
    "    print(\"yes\")"
   ]
  },
  {
   "cell_type": "code",
   "execution_count": null,
   "id": "6e7f70ad-5ca0-4189-8fdc-adda451ca2cc",
   "metadata": {},
   "outputs": [
    {
     "name": "stdout",
     "output_type": "stream",
     "text": [
      "bet bulunmadı, kusura bakmayınız.\n"
     ]
    }
   ],
   "source": [
    "if not \"bet\" in benimString:\n",
    "   print(\"bet \" + \"bulunmadı, kusura bakmayınız.\")\n",
    "else:\n",
    "     print(\"bulundu\")\n"
   ]
  },
  {
   "cell_type": "code",
   "execution_count": null,
   "id": "e54284b9-5aa9-40d9-a9ff-fc5bd8648ad4",
   "metadata": {},
   "outputs": [],
   "source": [
    "yeniString = \"Betül Terzioğlu\""
   ]
  },
  {
   "cell_type": "code",
   "execution_count": null,
   "id": "37b6d69d-e824-43d0-858c-c75316ff28b7",
   "metadata": {},
   "outputs": [
    {
     "name": "stdout",
     "output_type": "stream",
     "text": [
      "B\n",
      "e\n",
      "t\n",
      "ü\n",
      "l\n",
      " \n",
      "T\n",
      "e\n",
      "r\n",
      "z\n",
      "i\n",
      "o\n",
      "ğ\n",
      "l\n",
      "u\n"
     ]
    }
   ],
   "source": [
    "for i in yeniString:\n",
    "        print(i)"
   ]
  },
  {
   "cell_type": "code",
   "execution_count": null,
   "id": "2e45a376-a9e6-481c-a1c4-73520048817c",
   "metadata": {},
   "outputs": [],
   "source": [
    "koordinatListesi = [(10.32,20.42),(20.41,45.45)]"
   ]
  },
  {
   "cell_type": "code",
   "execution_count": null,
   "id": "4551d1b6-589a-4660-ad2f-61f74af7af15",
   "metadata": {},
   "outputs": [
    {
     "name": "stdout",
     "output_type": "stream",
     "text": [
      "(10.32, 20.42)\n",
      "(20.41, 45.45)\n"
     ]
    }
   ],
   "source": [
    "for eleman in koordinatListesi:\n",
    "    print(eleman)"
   ]
  },
  {
   "cell_type": "code",
   "execution_count": null,
   "id": "7b2619c9-0780-459d-a0d4-fd7c871ccacb",
   "metadata": {},
   "outputs": [
    {
     "name": "stdout",
     "output_type": "stream",
     "text": [
      "20.42\n",
      "45.45\n"
     ]
    }
   ],
   "source": [
    "for (x,y) in koordinatListesi:\n",
    "    print(y)"
   ]
  },
  {
   "cell_type": "code",
   "execution_count": null,
   "id": "71273e5e-89ab-4470-9304-ddc0f6a75527",
   "metadata": {},
   "outputs": [],
   "source": [
    "benimGaripListem = [(1,2,3),(4,5,6),(7,8,9)]"
   ]
  },
  {
   "cell_type": "code",
   "execution_count": null,
   "id": "969519bd-aacb-469c-8d0d-3b809da30e24",
   "metadata": {},
   "outputs": [
    {
     "name": "stdout",
     "output_type": "stream",
     "text": [
      "1\n",
      "4\n",
      "7\n"
     ]
    }
   ],
   "source": [
    "for (x,y,z) in benimGaripListem:\n",
    "    print(x)"
   ]
  },
  {
   "cell_type": "code",
   "execution_count": null,
   "id": "8a863576-3187-49d5-b1af-84d58fedac47",
   "metadata": {},
   "outputs": [],
   "source": [
    "benimSozluk = {\"muz\": 450, \"portakal\":520}"
   ]
  },
  {
   "cell_type": "code",
   "execution_count": null,
   "id": "b3a2805c-50e0-45d6-a631-5bdf3bf533e5",
   "metadata": {},
   "outputs": [
    {
     "data": {
      "text/plain": [
       "dict_items([('muz', 450), ('portakal', 520)])"
      ]
     },
     "execution_count": 51,
     "metadata": {},
     "output_type": "execute_result"
    }
   ],
   "source": [
    "benimSozluk.items()"
   ]
  },
  {
   "cell_type": "code",
   "execution_count": null,
   "id": "d3eb69ec-b587-4656-8cbf-e3bd0114dddf",
   "metadata": {},
   "outputs": [
    {
     "name": "stdout",
     "output_type": "stream",
     "text": [
      "450\n",
      "520\n"
     ]
    }
   ],
   "source": [
    "for (anahtar,deger) in benimSozluk.items():\n",
    "    print(deger)"
   ]
  },
  {
   "cell_type": "code",
   "execution_count": null,
   "id": "81c80ba6-048b-48f4-a508-4110dc83fdbc",
   "metadata": {},
   "outputs": [
    {
     "name": "stdout",
     "output_type": "stream",
     "text": [
      "muz\n",
      "portakal\n"
     ]
    }
   ],
   "source": [
    "for (anahtar,deger) in benimSozluk.items():\n",
    "    print(anahtar)"
   ]
  },
  {
   "cell_type": "code",
   "execution_count": null,
   "id": "81cfe0cd-0a3a-4e0a-865a-1d1548f8fd6e",
   "metadata": {},
   "outputs": [],
   "source": [
    "benimListe = [1,2,3,4,5]"
   ]
  },
  {
   "cell_type": "code",
   "execution_count": null,
   "id": "9a2bac76-1097-4310-a068-9056c5a319fe",
   "metadata": {},
   "outputs": [
    {
     "name": "stdout",
     "output_type": "stream",
     "text": [
      "3 hala listenin içerisind\n",
      "3 hala listenin içerisind\n",
      "3 hala listenin içerisind\n"
     ]
    }
   ],
   "source": [
    "while 3 in benimListe:\n",
    "    print(\"3 hala listenin içerisind\")\n",
    "    benimListe.pop()"
   ]
  },
  {
   "cell_type": "code",
   "execution_count": null,
   "id": "18c2775c-88d1-4fda-b416-83915468066b",
   "metadata": {},
   "outputs": [
    {
     "name": "stdout",
     "output_type": "stream",
     "text": [
      "(0, 5)\n",
      "(1, 6)\n",
      "(2, 7)\n",
      "(3, 8)\n",
      "(4, 9)\n",
      "(5, 10)\n",
      "(6, 11)\n",
      "(7, 12)\n",
      "(8, 13)\n",
      "(9, 14)\n"
     ]
    }
   ],
   "source": [
    "#enumarete elemanları indeksler\n",
    "for eleman in enumerate(list(range(5,15))):\n",
    "    print(eleman)"
   ]
  },
  {
   "cell_type": "code",
   "execution_count": null,
   "id": "cd519f1a-830a-4aa7-86a6-8e9af9a9d3e1",
   "metadata": {},
   "outputs": [
    {
     "name": "stdout",
     "output_type": "stream",
     "text": [
      "0\n",
      "1\n",
      "2\n",
      "3\n",
      "4\n",
      "5\n",
      "6\n",
      "7\n",
      "8\n",
      "9\n"
     ]
    }
   ],
   "source": [
    "for (index,numara) in enumerate(list(range(5,15))):\n",
    "    print(index)"
   ]
  },
  {
   "cell_type": "code",
   "execution_count": null,
   "id": "78261653-072a-44aa-bb28-3c224f0e8ebf",
   "metadata": {},
   "outputs": [],
   "source": [
    "from random import randint\n",
    "from random import shuffle"
   ]
  },
  {
   "cell_type": "code",
   "execution_count": null,
   "id": "5e6e9639-f1c2-40c6-9fbf-8ea751719818",
   "metadata": {},
   "outputs": [
    {
     "data": {
      "text/plain": [
       "25"
      ]
     },
     "execution_count": 64,
     "metadata": {},
     "output_type": "execute_result"
    }
   ],
   "source": [
    "randint(0,36)"
   ]
  },
  {
   "cell_type": "code",
   "execution_count": null,
   "id": "64aa5f7f-773f-4be4-9ee0-78880f58883d",
   "metadata": {},
   "outputs": [],
   "source": [
    "shuffle(benimListe)#rastgele bir şekilde dağıtır."
   ]
  },
  {
   "cell_type": "markdown",
   "id": "a73ee1c4-f133-4fff-ba3b-cc3b5d91a002",
   "metadata": {},
   "source": [
    "benimListe"
   ]
  },
  {
   "cell_type": "markdown",
   "id": "fbb2d16d-1118-4107-b5b2-d42cb9806c87",
   "metadata": {},
   "source": [
    "### Zip"
   ]
  },
  {
   "cell_type": "code",
   "execution_count": null,
   "id": "9f939e54-da62-4533-9fed-216e1f2b4fb1",
   "metadata": {},
   "outputs": [],
   "source": [
    "# iki veya daha fazla listeyi bağlamak istediğimizde kullanırız."
   ]
  },
  {
   "cell_type": "code",
   "execution_count": null,
   "id": "5f35452b-aedd-4dae-847a-0ab34228aa8a",
   "metadata": {},
   "outputs": [],
   "source": [
    "yemekListesi = [\"muz\",\"elma\",\"karpuz\"]\n",
    "kaloriList = [\"10\",\"20\",\"30\"]\n",
    "gunListe = [\"pazartesi\", \"salı\",\"çarşamba\"]"
   ]
  },
  {
   "cell_type": "code",
   "execution_count": null,
   "id": "045a620d-67db-471f-9b95-7952f83552b3",
   "metadata": {},
   "outputs": [
    {
     "data": {
      "text/plain": [
       "[('muz', '10', 'pazartesi'),\n",
       " ('elma', '20', 'salı'),\n",
       " ('karpuz', '30', 'çarşamba')]"
      ]
     },
     "execution_count": 77,
     "metadata": {},
     "output_type": "execute_result"
    }
   ],
   "source": [
    "list(zip(yemekListesi,kaloriList,gunListe))"
   ]
  },
  {
   "cell_type": "code",
   "execution_count": 25,
   "id": "345cdb7d-7d68-4c89-abe3-4b9514a494fb",
   "metadata": {},
   "outputs": [
    {
     "name": "stdout",
     "output_type": "stream",
     "text": [
      "fg\n"
     ]
    }
   ],
   "source": [
    "print(\"fg\")"
   ]
  },
  {
   "cell_type": "code",
   "execution_count": null,
   "id": "a5a9dee6",
   "metadata": {},
   "outputs": [],
   "source": []
  }
 ],
 "metadata": {
  "kernelspec": {
   "display_name": "Python 3 (ipykernel)",
   "language": "python",
   "name": "python3"
  },
  "language_info": {
   "codemirror_mode": {
    "name": "ipython",
    "version": 3
   },
   "file_extension": ".py",
   "mimetype": "text/x-python",
   "name": "python",
   "nbconvert_exporter": "python",
   "pygments_lexer": "ipython3",
   "version": "3.10.12"
  }
 },
 "nbformat": 4,
 "nbformat_minor": 5
}
